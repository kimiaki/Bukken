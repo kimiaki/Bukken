{
 "cells": [
  {
   "cell_type": "code",
   "execution_count": 1,
   "metadata": {
    "collapsed": true
   },
   "outputs": [],
   "source": [
    "# -*- coding: utf-8 -*-"
   ]
  },
  {
   "cell_type": "markdown",
   "metadata": {},
   "source": [
    "# ライブラリインポート"
   ]
  },
  {
   "cell_type": "code",
   "execution_count": 2,
   "metadata": {
    "collapsed": true
   },
   "outputs": [],
   "source": [
    "from bs4 import BeautifulSoup\n",
    "import pandas as pd\n",
    "import numpy as np\n",
    "import requests\n",
    "import time\n",
    "import os\n",
    "import csv\n",
    "import collections\n",
    "from collections import Counter\n",
    "from tqdm import tqdm\n",
    "import re\n",
    "import itertools\n",
    "import seaborn"
   ]
  },
  {
   "cell_type": "code",
   "execution_count": 3,
   "metadata": {
    "collapsed": true
   },
   "outputs": [],
   "source": [
    "import matplotlib\n",
    "import matplotlib.pyplot as plt\n",
    "#matplotlib.rc(\"font\", **font)"
   ]
  },
  {
   "cell_type": "markdown",
   "metadata": {},
   "source": [
    "# データを読み込み"
   ]
  },
  {
   "cell_type": "code",
   "execution_count": 4,
   "metadata": {
    "scrolled": true
   },
   "outputs": [
    {
     "name": "stdout",
     "output_type": "stream",
     "text": [
      "Index(['Unnamed: 0', 'レンタルタイプ', '都道府県', '市区町村', '町域以下', '立地1_路線', '立地1_駅',\n",
      "       '立地1_バス', '立地1_徒歩', '立地2_路線', '立地2_駅', '立地2_バス', '立地2_徒歩', '立地3_路線',\n",
      "       '立地3_駅', '立地3_バス', '立地3_徒歩', '築年数', '地下', '地上', '階', '賃料', '管理費', '敷金',\n",
      "       '礼金', '保証金', '敷引,償却費', '部屋数', 'D有無', 'K有無', 'L有無', 'S有無', '専有面積',\n",
      "       '月額費用', '初期費用'],\n",
      "      dtype='object')\n",
      "(300001, 35)\n",
      "Index(['Unnamed: 0', 'レンタルタイプ', '都道府県', '市区町村', '町域以下', '立地1_路線', '立地1_駅',\n",
      "       '立地1_バス', '立地1_徒歩', '立地2_路線', '立地2_駅', '立地2_バス', '立地2_徒歩', '立地3_路線',\n",
      "       '立地3_駅', '立地3_バス', '立地3_徒歩', '築年数', '地下', '地上', '階', '賃料', '管理費', '敷金',\n",
      "       '礼金', '保証金', '敷引,償却費', '部屋数', 'D有無', 'K有無', 'L有無', 'S有無', '専有面積',\n",
      "       '月額費用', '初期費用'],\n",
      "      dtype='object')\n",
      "(323993, 35)\n",
      "(623994, 34)\n"
     ]
    },
    {
     "name": "stderr",
     "output_type": "stream",
     "text": [
      "/Users/kimiaki/Documents/virtualenv/py3.5/lib/python3.5/site-packages/ipykernel_launcher.py:11: DeprecationWarning: \n",
      ".ix is deprecated. Please use\n",
      ".loc for label based indexing or\n",
      ".iloc for positional indexing\n",
      "\n",
      "See the documentation here:\n",
      "http://pandas.pydata.org/pandas-docs/stable/indexing.html#deprecate_ix\n",
      "  # This is added back by InteractiveShellApp.init_path()\n"
     ]
    },
    {
     "data": {
      "text/html": [
       "<div>\n",
       "<style>\n",
       "    .dataframe thead tr:only-child th {\n",
       "        text-align: right;\n",
       "    }\n",
       "\n",
       "    .dataframe thead th {\n",
       "        text-align: left;\n",
       "    }\n",
       "\n",
       "    .dataframe tbody tr th {\n",
       "        vertical-align: top;\n",
       "    }\n",
       "</style>\n",
       "<table border=\"1\" class=\"dataframe\">\n",
       "  <thead>\n",
       "    <tr style=\"text-align: right;\">\n",
       "      <th></th>\n",
       "      <th>レンタルタイプ</th>\n",
       "      <th>都道府県</th>\n",
       "      <th>市区町村</th>\n",
       "      <th>町域以下</th>\n",
       "      <th>立地1_路線</th>\n",
       "      <th>立地1_駅</th>\n",
       "      <th>立地1_バス</th>\n",
       "      <th>立地1_徒歩</th>\n",
       "      <th>立地2_路線</th>\n",
       "      <th>立地2_駅</th>\n",
       "      <th>...</th>\n",
       "      <th>保証金</th>\n",
       "      <th>敷引,償却費</th>\n",
       "      <th>部屋数</th>\n",
       "      <th>D有無</th>\n",
       "      <th>K有無</th>\n",
       "      <th>L有無</th>\n",
       "      <th>S有無</th>\n",
       "      <th>専有面積</th>\n",
       "      <th>月額費用</th>\n",
       "      <th>初期費用</th>\n",
       "    </tr>\n",
       "  </thead>\n",
       "  <tbody>\n",
       "    <tr>\n",
       "      <th>0</th>\n",
       "      <td>賃貸アパート</td>\n",
       "      <td>東京</td>\n",
       "      <td>足立</td>\n",
       "      <td>西綾瀬４</td>\n",
       "      <td>東京メトロ千代田線</td>\n",
       "      <td>綾瀬駅</td>\n",
       "      <td>0</td>\n",
       "      <td>11</td>\n",
       "      <td>つくばエクスプレス</td>\n",
       "      <td>青井駅</td>\n",
       "      <td>...</td>\n",
       "      <td>0.0</td>\n",
       "      <td>0.0</td>\n",
       "      <td>2.0</td>\n",
       "      <td>0.0</td>\n",
       "      <td>1.0</td>\n",
       "      <td>0.0</td>\n",
       "      <td>0.0</td>\n",
       "      <td>24.00</td>\n",
       "      <td>26000.0</td>\n",
       "      <td>50000.0</td>\n",
       "    </tr>\n",
       "    <tr>\n",
       "      <th>1</th>\n",
       "      <td>賃貸アパート</td>\n",
       "      <td>東京</td>\n",
       "      <td>足立</td>\n",
       "      <td>小台２</td>\n",
       "      <td>日暮里・舎人ライナー</td>\n",
       "      <td>足立小台駅</td>\n",
       "      <td>0</td>\n",
       "      <td>17</td>\n",
       "      <td>ＪＲ高崎線</td>\n",
       "      <td>尾久駅</td>\n",
       "      <td>...</td>\n",
       "      <td>0.0</td>\n",
       "      <td>0.0</td>\n",
       "      <td>1.0</td>\n",
       "      <td>0.0</td>\n",
       "      <td>0.0</td>\n",
       "      <td>0.0</td>\n",
       "      <td>0.0</td>\n",
       "      <td>11.57</td>\n",
       "      <td>26000.0</td>\n",
       "      <td>52000.0</td>\n",
       "    </tr>\n",
       "    <tr>\n",
       "      <th>2</th>\n",
       "      <td>賃貸アパート</td>\n",
       "      <td>東京</td>\n",
       "      <td>足立</td>\n",
       "      <td>新田１</td>\n",
       "      <td>東京メトロ南北線</td>\n",
       "      <td>王子神谷駅</td>\n",
       "      <td>0</td>\n",
       "      <td>15</td>\n",
       "      <td>-</td>\n",
       "      <td>-</td>\n",
       "      <td>...</td>\n",
       "      <td>0.0</td>\n",
       "      <td>0.0</td>\n",
       "      <td>1.0</td>\n",
       "      <td>0.0</td>\n",
       "      <td>1.0</td>\n",
       "      <td>0.0</td>\n",
       "      <td>0.0</td>\n",
       "      <td>12.00</td>\n",
       "      <td>26500.0</td>\n",
       "      <td>50000.0</td>\n",
       "    </tr>\n",
       "    <tr>\n",
       "      <th>3</th>\n",
       "      <td>賃貸アパート</td>\n",
       "      <td>東京</td>\n",
       "      <td>足立</td>\n",
       "      <td>新田１</td>\n",
       "      <td>東京メトロ南北線</td>\n",
       "      <td>王子神谷駅</td>\n",
       "      <td>0</td>\n",
       "      <td>17</td>\n",
       "      <td>-</td>\n",
       "      <td>-</td>\n",
       "      <td>...</td>\n",
       "      <td>0.0</td>\n",
       "      <td>0.0</td>\n",
       "      <td>1.0</td>\n",
       "      <td>0.0</td>\n",
       "      <td>0.0</td>\n",
       "      <td>0.0</td>\n",
       "      <td>0.0</td>\n",
       "      <td>10.01</td>\n",
       "      <td>26500.0</td>\n",
       "      <td>50000.0</td>\n",
       "    </tr>\n",
       "    <tr>\n",
       "      <th>4</th>\n",
       "      <td>賃貸アパート</td>\n",
       "      <td>東京</td>\n",
       "      <td>足立</td>\n",
       "      <td>新田１</td>\n",
       "      <td>東京メトロ南北線</td>\n",
       "      <td>王子神谷駅</td>\n",
       "      <td>0</td>\n",
       "      <td>17</td>\n",
       "      <td>-</td>\n",
       "      <td>-</td>\n",
       "      <td>...</td>\n",
       "      <td>0.0</td>\n",
       "      <td>0.0</td>\n",
       "      <td>1.0</td>\n",
       "      <td>0.0</td>\n",
       "      <td>0.0</td>\n",
       "      <td>0.0</td>\n",
       "      <td>0.0</td>\n",
       "      <td>10.01</td>\n",
       "      <td>26500.0</td>\n",
       "      <td>50000.0</td>\n",
       "    </tr>\n",
       "    <tr>\n",
       "      <th>5</th>\n",
       "      <td>賃貸アパート</td>\n",
       "      <td>東京</td>\n",
       "      <td>足立</td>\n",
       "      <td>梅島２</td>\n",
       "      <td>東武伊勢崎線</td>\n",
       "      <td>梅島駅</td>\n",
       "      <td>0</td>\n",
       "      <td>9</td>\n",
       "      <td>東武伊勢崎線</td>\n",
       "      <td>西新井駅</td>\n",
       "      <td>...</td>\n",
       "      <td>0.0</td>\n",
       "      <td>0.0</td>\n",
       "      <td>1.0</td>\n",
       "      <td>0.0</td>\n",
       "      <td>0.0</td>\n",
       "      <td>0.0</td>\n",
       "      <td>0.0</td>\n",
       "      <td>10.00</td>\n",
       "      <td>28000.0</td>\n",
       "      <td>28000.0</td>\n",
       "    </tr>\n",
       "    <tr>\n",
       "      <th>6</th>\n",
       "      <td>賃貸アパート</td>\n",
       "      <td>東京</td>\n",
       "      <td>足立</td>\n",
       "      <td>梅島２</td>\n",
       "      <td>東武伊勢崎線</td>\n",
       "      <td>梅島駅</td>\n",
       "      <td>0</td>\n",
       "      <td>9</td>\n",
       "      <td>東武伊勢崎線</td>\n",
       "      <td>西新井駅</td>\n",
       "      <td>...</td>\n",
       "      <td>0.0</td>\n",
       "      <td>0.0</td>\n",
       "      <td>1.0</td>\n",
       "      <td>0.0</td>\n",
       "      <td>0.0</td>\n",
       "      <td>0.0</td>\n",
       "      <td>0.0</td>\n",
       "      <td>10.00</td>\n",
       "      <td>28000.0</td>\n",
       "      <td>28000.0</td>\n",
       "    </tr>\n",
       "    <tr>\n",
       "      <th>7</th>\n",
       "      <td>賃貸アパート</td>\n",
       "      <td>東京</td>\n",
       "      <td>足立</td>\n",
       "      <td>千住曙町</td>\n",
       "      <td>東京メトロ千代田線</td>\n",
       "      <td>北千住駅</td>\n",
       "      <td>0</td>\n",
       "      <td>15</td>\n",
       "      <td>京成本線</td>\n",
       "      <td>京成関屋駅</td>\n",
       "      <td>...</td>\n",
       "      <td>0.0</td>\n",
       "      <td>0.0</td>\n",
       "      <td>1.0</td>\n",
       "      <td>0.0</td>\n",
       "      <td>0.0</td>\n",
       "      <td>0.0</td>\n",
       "      <td>0.0</td>\n",
       "      <td>10.00</td>\n",
       "      <td>28000.0</td>\n",
       "      <td>56000.0</td>\n",
       "    </tr>\n",
       "    <tr>\n",
       "      <th>8</th>\n",
       "      <td>賃貸アパート</td>\n",
       "      <td>東京</td>\n",
       "      <td>足立</td>\n",
       "      <td>千住曙町</td>\n",
       "      <td>東京メトロ千代田線</td>\n",
       "      <td>北千住駅</td>\n",
       "      <td>0</td>\n",
       "      <td>15</td>\n",
       "      <td>東武伊勢崎線</td>\n",
       "      <td>牛田駅</td>\n",
       "      <td>...</td>\n",
       "      <td>0.0</td>\n",
       "      <td>0.0</td>\n",
       "      <td>1.0</td>\n",
       "      <td>0.0</td>\n",
       "      <td>0.0</td>\n",
       "      <td>0.0</td>\n",
       "      <td>0.0</td>\n",
       "      <td>10.00</td>\n",
       "      <td>28000.0</td>\n",
       "      <td>56000.0</td>\n",
       "    </tr>\n",
       "    <tr>\n",
       "      <th>9</th>\n",
       "      <td>賃貸アパート</td>\n",
       "      <td>東京</td>\n",
       "      <td>足立</td>\n",
       "      <td>千住曙町</td>\n",
       "      <td>東京メトロ千代田線</td>\n",
       "      <td>北千住駅</td>\n",
       "      <td>0</td>\n",
       "      <td>15</td>\n",
       "      <td>東武伊勢崎線</td>\n",
       "      <td>牛田駅</td>\n",
       "      <td>...</td>\n",
       "      <td>0.0</td>\n",
       "      <td>0.0</td>\n",
       "      <td>1.0</td>\n",
       "      <td>0.0</td>\n",
       "      <td>0.0</td>\n",
       "      <td>0.0</td>\n",
       "      <td>0.0</td>\n",
       "      <td>10.00</td>\n",
       "      <td>28000.0</td>\n",
       "      <td>56000.0</td>\n",
       "    </tr>\n",
       "  </tbody>\n",
       "</table>\n",
       "<p>10 rows × 34 columns</p>\n",
       "</div>"
      ],
      "text/plain": [
       "  レンタルタイプ 都道府県 市区町村  町域以下      立地1_路線  立地1_駅  立地1_バス  立地1_徒歩     立地2_路線  \\\n",
       "0  賃貸アパート   東京   足立  西綾瀬４   東京メトロ千代田線    綾瀬駅       0      11  つくばエクスプレス   \n",
       "1  賃貸アパート   東京   足立   小台２  日暮里・舎人ライナー  足立小台駅       0      17      ＪＲ高崎線   \n",
       "2  賃貸アパート   東京   足立   新田１    東京メトロ南北線  王子神谷駅       0      15          -   \n",
       "3  賃貸アパート   東京   足立   新田１    東京メトロ南北線  王子神谷駅       0      17          -   \n",
       "4  賃貸アパート   東京   足立   新田１    東京メトロ南北線  王子神谷駅       0      17          -   \n",
       "5  賃貸アパート   東京   足立   梅島２      東武伊勢崎線    梅島駅       0       9     東武伊勢崎線   \n",
       "6  賃貸アパート   東京   足立   梅島２      東武伊勢崎線    梅島駅       0       9     東武伊勢崎線   \n",
       "7  賃貸アパート   東京   足立  千住曙町   東京メトロ千代田線   北千住駅       0      15       京成本線   \n",
       "8  賃貸アパート   東京   足立  千住曙町   東京メトロ千代田線   北千住駅       0      15     東武伊勢崎線   \n",
       "9  賃貸アパート   東京   足立  千住曙町   東京メトロ千代田線   北千住駅       0      15     東武伊勢崎線   \n",
       "\n",
       "   立地2_駅   ...     保証金  敷引,償却費  部屋数  D有無  K有無  L有無  S有無   専有面積     月額費用  \\\n",
       "0    青井駅   ...     0.0     0.0  2.0  0.0  1.0  0.0  0.0  24.00  26000.0   \n",
       "1    尾久駅   ...     0.0     0.0  1.0  0.0  0.0  0.0  0.0  11.57  26000.0   \n",
       "2      -   ...     0.0     0.0  1.0  0.0  1.0  0.0  0.0  12.00  26500.0   \n",
       "3      -   ...     0.0     0.0  1.0  0.0  0.0  0.0  0.0  10.01  26500.0   \n",
       "4      -   ...     0.0     0.0  1.0  0.0  0.0  0.0  0.0  10.01  26500.0   \n",
       "5   西新井駅   ...     0.0     0.0  1.0  0.0  0.0  0.0  0.0  10.00  28000.0   \n",
       "6   西新井駅   ...     0.0     0.0  1.0  0.0  0.0  0.0  0.0  10.00  28000.0   \n",
       "7  京成関屋駅   ...     0.0     0.0  1.0  0.0  0.0  0.0  0.0  10.00  28000.0   \n",
       "8    牛田駅   ...     0.0     0.0  1.0  0.0  0.0  0.0  0.0  10.00  28000.0   \n",
       "9    牛田駅   ...     0.0     0.0  1.0  0.0  0.0  0.0  0.0  10.00  28000.0   \n",
       "\n",
       "      初期費用  \n",
       "0  50000.0  \n",
       "1  52000.0  \n",
       "2  50000.0  \n",
       "3  50000.0  \n",
       "4  50000.0  \n",
       "5  28000.0  \n",
       "6  28000.0  \n",
       "7  56000.0  \n",
       "8  56000.0  \n",
       "9  56000.0  \n",
       "\n",
       "[10 rows x 34 columns]"
      ]
     },
     "execution_count": 4,
     "metadata": {},
     "output_type": "execute_result"
    }
   ],
   "source": [
    "# df_all_fixの読み込み\n",
    "df_all_1 = pd.read_csv(\"../output/df_csv/df_all_fix_1.csv\", encoding = \"utf-8\")\n",
    "df_all_2 = pd.read_csv(\"../output/df_csv/df_all_fix_2.csv\", encoding = \"utf-8\")\n",
    "print(df_all_1.columns)\n",
    "print(df_all_1.shape)\n",
    "print(df_all_2.columns)\n",
    "print(df_all_2.shape)\n",
    "df_all = df_all_1.append(df_all_2, ignore_index=True)\n",
    "df_all = df_all.reset_index(drop=True)\n",
    "# 不要列「Unnamed: 0」を削除\n",
    "df_all = df_all.ix[:, 1:]\n",
    "# データ確認\n",
    "print(df_all.shape)\n",
    "df_all.head(10)"
   ]
  },
  {
   "cell_type": "markdown",
   "metadata": {},
   "source": [
    "=> 623994件のデータが集まった。"
   ]
  },
  {
   "cell_type": "markdown",
   "metadata": {},
   "source": [
    "# データ異常値確認"
   ]
  },
  {
   "cell_type": "markdown",
   "metadata": {},
   "source": [
    "ref)https://pythondatascience.plavox.info/seaborn/%E6%A3%92%E3%82%B0%E3%83%A9%E3%83%95\n",
    "ref Seaborn)https://pythondatascience.plavox.info/seaborn/%E6%A3%92%E3%82%B0%E3%83%A9%E3%83%95\n",
    "ref pdPlot)https://qiita.com/hik0107/items/de5785f680096df93efa"
   ]
  },
  {
   "cell_type": "code",
   "execution_count": 5,
   "metadata": {
    "scrolled": false
   },
   "outputs": [
    {
     "data": {
      "text/html": [
       "<div>\n",
       "<style>\n",
       "    .dataframe thead tr:only-child th {\n",
       "        text-align: right;\n",
       "    }\n",
       "\n",
       "    .dataframe thead th {\n",
       "        text-align: left;\n",
       "    }\n",
       "\n",
       "    .dataframe tbody tr th {\n",
       "        vertical-align: top;\n",
       "    }\n",
       "</style>\n",
       "<table border=\"1\" class=\"dataframe\">\n",
       "  <thead>\n",
       "    <tr style=\"text-align: right;\">\n",
       "      <th></th>\n",
       "      <th>立地1_バス</th>\n",
       "      <th>立地1_徒歩</th>\n",
       "      <th>立地2_バス</th>\n",
       "      <th>立地2_徒歩</th>\n",
       "      <th>立地3_バス</th>\n",
       "      <th>立地3_徒歩</th>\n",
       "      <th>築年数</th>\n",
       "      <th>地下</th>\n",
       "      <th>地上</th>\n",
       "      <th>階</th>\n",
       "      <th>...</th>\n",
       "      <th>保証金</th>\n",
       "      <th>敷引,償却費</th>\n",
       "      <th>部屋数</th>\n",
       "      <th>D有無</th>\n",
       "      <th>K有無</th>\n",
       "      <th>L有無</th>\n",
       "      <th>S有無</th>\n",
       "      <th>専有面積</th>\n",
       "      <th>月額費用</th>\n",
       "      <th>初期費用</th>\n",
       "    </tr>\n",
       "  </thead>\n",
       "  <tbody>\n",
       "    <tr>\n",
       "      <th>count</th>\n",
       "      <td>623994.000000</td>\n",
       "      <td>623994.000000</td>\n",
       "      <td>623994.000000</td>\n",
       "      <td>623994.000000</td>\n",
       "      <td>623994.000000</td>\n",
       "      <td>623994.000000</td>\n",
       "      <td>623994.000000</td>\n",
       "      <td>623994.000000</td>\n",
       "      <td>623994.000000</td>\n",
       "      <td>623994.000000</td>\n",
       "      <td>...</td>\n",
       "      <td>6.239940e+05</td>\n",
       "      <td>6.239940e+05</td>\n",
       "      <td>623994.000000</td>\n",
       "      <td>623994.000000</td>\n",
       "      <td>623994.000000</td>\n",
       "      <td>623994.000000</td>\n",
       "      <td>623994.00000</td>\n",
       "      <td>623994.000000</td>\n",
       "      <td>6.239940e+05</td>\n",
       "      <td>6.239940e+05</td>\n",
       "    </tr>\n",
       "    <tr>\n",
       "      <th>mean</th>\n",
       "      <td>0.097789</td>\n",
       "      <td>7.677107</td>\n",
       "      <td>0.237286</td>\n",
       "      <td>11.617040</td>\n",
       "      <td>0.288450</td>\n",
       "      <td>13.752022</td>\n",
       "      <td>18.944024</td>\n",
       "      <td>-0.072092</td>\n",
       "      <td>5.763055</td>\n",
       "      <td>3.364542</td>\n",
       "      <td>...</td>\n",
       "      <td>1.816764e+03</td>\n",
       "      <td>3.725696e+03</td>\n",
       "      <td>1.303964</td>\n",
       "      <td>0.364951</td>\n",
       "      <td>0.819912</td>\n",
       "      <td>0.208978</td>\n",
       "      <td>0.01513</td>\n",
       "      <td>32.426672</td>\n",
       "      <td>1.029661e+05</td>\n",
       "      <td>1.955473e+05</td>\n",
       "    </tr>\n",
       "    <tr>\n",
       "      <th>std</th>\n",
       "      <td>1.160823</td>\n",
       "      <td>4.624772</td>\n",
       "      <td>2.037352</td>\n",
       "      <td>6.333507</td>\n",
       "      <td>2.359231</td>\n",
       "      <td>8.145962</td>\n",
       "      <td>14.175776</td>\n",
       "      <td>0.335441</td>\n",
       "      <td>5.610024</td>\n",
       "      <td>3.408785</td>\n",
       "      <td>...</td>\n",
       "      <td>2.899270e+04</td>\n",
       "      <td>2.499557e+04</td>\n",
       "      <td>0.615314</td>\n",
       "      <td>0.481417</td>\n",
       "      <td>0.384261</td>\n",
       "      <td>0.406579</td>\n",
       "      <td>0.12207</td>\n",
       "      <td>19.462988</td>\n",
       "      <td>7.370993e+04</td>\n",
       "      <td>1.063760e+07</td>\n",
       "    </tr>\n",
       "    <tr>\n",
       "      <th>min</th>\n",
       "      <td>0.000000</td>\n",
       "      <td>0.000000</td>\n",
       "      <td>0.000000</td>\n",
       "      <td>0.000000</td>\n",
       "      <td>0.000000</td>\n",
       "      <td>0.000000</td>\n",
       "      <td>0.000000</td>\n",
       "      <td>-9.000000</td>\n",
       "      <td>1.000000</td>\n",
       "      <td>-6.000000</td>\n",
       "      <td>...</td>\n",
       "      <td>0.000000e+00</td>\n",
       "      <td>0.000000e+00</td>\n",
       "      <td>1.000000</td>\n",
       "      <td>0.000000</td>\n",
       "      <td>0.000000</td>\n",
       "      <td>0.000000</td>\n",
       "      <td>0.00000</td>\n",
       "      <td>0.100000</td>\n",
       "      <td>1.780000e+04</td>\n",
       "      <td>0.000000e+00</td>\n",
       "    </tr>\n",
       "    <tr>\n",
       "      <th>25%</th>\n",
       "      <td>0.000000</td>\n",
       "      <td>4.000000</td>\n",
       "      <td>0.000000</td>\n",
       "      <td>8.000000</td>\n",
       "      <td>0.000000</td>\n",
       "      <td>9.000000</td>\n",
       "      <td>7.000000</td>\n",
       "      <td>0.000000</td>\n",
       "      <td>2.000000</td>\n",
       "      <td>2.000000</td>\n",
       "      <td>...</td>\n",
       "      <td>0.000000e+00</td>\n",
       "      <td>0.000000e+00</td>\n",
       "      <td>1.000000</td>\n",
       "      <td>0.000000</td>\n",
       "      <td>1.000000</td>\n",
       "      <td>0.000000</td>\n",
       "      <td>0.00000</td>\n",
       "      <td>20.720000</td>\n",
       "      <td>6.900000e+04</td>\n",
       "      <td>7.400000e+04</td>\n",
       "    </tr>\n",
       "    <tr>\n",
       "      <th>50%</th>\n",
       "      <td>0.000000</td>\n",
       "      <td>7.000000</td>\n",
       "      <td>0.000000</td>\n",
       "      <td>11.000000</td>\n",
       "      <td>0.000000</td>\n",
       "      <td>14.000000</td>\n",
       "      <td>17.000000</td>\n",
       "      <td>0.000000</td>\n",
       "      <td>4.000000</td>\n",
       "      <td>2.000000</td>\n",
       "      <td>...</td>\n",
       "      <td>0.000000e+00</td>\n",
       "      <td>0.000000e+00</td>\n",
       "      <td>1.000000</td>\n",
       "      <td>0.000000</td>\n",
       "      <td>1.000000</td>\n",
       "      <td>0.000000</td>\n",
       "      <td>0.00000</td>\n",
       "      <td>26.000000</td>\n",
       "      <td>8.700000e+04</td>\n",
       "      <td>1.340000e+05</td>\n",
       "    </tr>\n",
       "    <tr>\n",
       "      <th>75%</th>\n",
       "      <td>0.000000</td>\n",
       "      <td>10.000000</td>\n",
       "      <td>0.000000</td>\n",
       "      <td>15.000000</td>\n",
       "      <td>0.000000</td>\n",
       "      <td>19.000000</td>\n",
       "      <td>29.000000</td>\n",
       "      <td>0.000000</td>\n",
       "      <td>7.000000</td>\n",
       "      <td>4.000000</td>\n",
       "      <td>...</td>\n",
       "      <td>0.000000e+00</td>\n",
       "      <td>0.000000e+00</td>\n",
       "      <td>1.000000</td>\n",
       "      <td>1.000000</td>\n",
       "      <td>1.000000</td>\n",
       "      <td>0.000000</td>\n",
       "      <td>0.00000</td>\n",
       "      <td>40.000000</td>\n",
       "      <td>1.150000e+05</td>\n",
       "      <td>2.000000e+05</td>\n",
       "    </tr>\n",
       "    <tr>\n",
       "      <th>max</th>\n",
       "      <td>35.000000</td>\n",
       "      <td>472.000000</td>\n",
       "      <td>50.000000</td>\n",
       "      <td>70.000000</td>\n",
       "      <td>65.000000</td>\n",
       "      <td>222.000000</td>\n",
       "      <td>99.000000</td>\n",
       "      <td>0.000000</td>\n",
       "      <td>60.000000</td>\n",
       "      <td>60.000000</td>\n",
       "      <td>...</td>\n",
       "      <td>5.138000e+06</td>\n",
       "      <td>2.800000e+06</td>\n",
       "      <td>10.000000</td>\n",
       "      <td>1.000000</td>\n",
       "      <td>1.000000</td>\n",
       "      <td>1.000000</td>\n",
       "      <td>1.00000</td>\n",
       "      <td>679.200000</td>\n",
       "      <td>3.500000e+06</td>\n",
       "      <td>4.850097e+09</td>\n",
       "    </tr>\n",
       "  </tbody>\n",
       "</table>\n",
       "<p>8 rows × 24 columns</p>\n",
       "</div>"
      ],
      "text/plain": [
       "              立地1_バス         立地1_徒歩         立地2_バス         立地2_徒歩  \\\n",
       "count  623994.000000  623994.000000  623994.000000  623994.000000   \n",
       "mean        0.097789       7.677107       0.237286      11.617040   \n",
       "std         1.160823       4.624772       2.037352       6.333507   \n",
       "min         0.000000       0.000000       0.000000       0.000000   \n",
       "25%         0.000000       4.000000       0.000000       8.000000   \n",
       "50%         0.000000       7.000000       0.000000      11.000000   \n",
       "75%         0.000000      10.000000       0.000000      15.000000   \n",
       "max        35.000000     472.000000      50.000000      70.000000   \n",
       "\n",
       "              立地3_バス         立地3_徒歩            築年数             地下  \\\n",
       "count  623994.000000  623994.000000  623994.000000  623994.000000   \n",
       "mean        0.288450      13.752022      18.944024      -0.072092   \n",
       "std         2.359231       8.145962      14.175776       0.335441   \n",
       "min         0.000000       0.000000       0.000000      -9.000000   \n",
       "25%         0.000000       9.000000       7.000000       0.000000   \n",
       "50%         0.000000      14.000000      17.000000       0.000000   \n",
       "75%         0.000000      19.000000      29.000000       0.000000   \n",
       "max        65.000000     222.000000      99.000000       0.000000   \n",
       "\n",
       "                  地上              階      ...                保証金        敷引,償却費  \\\n",
       "count  623994.000000  623994.000000      ...       6.239940e+05  6.239940e+05   \n",
       "mean        5.763055       3.364542      ...       1.816764e+03  3.725696e+03   \n",
       "std         5.610024       3.408785      ...       2.899270e+04  2.499557e+04   \n",
       "min         1.000000      -6.000000      ...       0.000000e+00  0.000000e+00   \n",
       "25%         2.000000       2.000000      ...       0.000000e+00  0.000000e+00   \n",
       "50%         4.000000       2.000000      ...       0.000000e+00  0.000000e+00   \n",
       "75%         7.000000       4.000000      ...       0.000000e+00  0.000000e+00   \n",
       "max        60.000000      60.000000      ...       5.138000e+06  2.800000e+06   \n",
       "\n",
       "                 部屋数            D有無            K有無            L有無  \\\n",
       "count  623994.000000  623994.000000  623994.000000  623994.000000   \n",
       "mean        1.303964       0.364951       0.819912       0.208978   \n",
       "std         0.615314       0.481417       0.384261       0.406579   \n",
       "min         1.000000       0.000000       0.000000       0.000000   \n",
       "25%         1.000000       0.000000       1.000000       0.000000   \n",
       "50%         1.000000       0.000000       1.000000       0.000000   \n",
       "75%         1.000000       1.000000       1.000000       0.000000   \n",
       "max        10.000000       1.000000       1.000000       1.000000   \n",
       "\n",
       "                S有無           専有面積          月額費用          初期費用  \n",
       "count  623994.00000  623994.000000  6.239940e+05  6.239940e+05  \n",
       "mean        0.01513      32.426672  1.029661e+05  1.955473e+05  \n",
       "std         0.12207      19.462988  7.370993e+04  1.063760e+07  \n",
       "min         0.00000       0.100000  1.780000e+04  0.000000e+00  \n",
       "25%         0.00000      20.720000  6.900000e+04  7.400000e+04  \n",
       "50%         0.00000      26.000000  8.700000e+04  1.340000e+05  \n",
       "75%         0.00000      40.000000  1.150000e+05  2.000000e+05  \n",
       "max         1.00000     679.200000  3.500000e+06  4.850097e+09  \n",
       "\n",
       "[8 rows x 24 columns]"
      ]
     },
     "execution_count": 5,
     "metadata": {},
     "output_type": "execute_result"
    }
   ],
   "source": [
    "df_all.describe()"
   ]
  },
  {
   "cell_type": "markdown",
   "metadata": {},
   "source": [
    "=> バス65分、地上60階、10部屋、はなんとなくありそうだが、<br>\n",
    "   徒歩472分、築年数99年、地下9階、専有面積679m2、初期費用48億円、は自分の感覚的になさそうなので、ミスデータか確認してみる。"
   ]
  },
  {
   "cell_type": "markdown",
   "metadata": {},
   "source": [
    "## 徒歩"
   ]
  },
  {
   "cell_type": "code",
   "execution_count": null,
   "metadata": {
    "collapsed": true
   },
   "outputs": [],
   "source": []
  },
  {
   "cell_type": "markdown",
   "metadata": {},
   "source": [
    "## 築年数"
   ]
  },
  {
   "cell_type": "code",
   "execution_count": null,
   "metadata": {
    "collapsed": true
   },
   "outputs": [],
   "source": []
  },
  {
   "cell_type": "markdown",
   "metadata": {},
   "source": [
    "## 専有面積"
   ]
  },
  {
   "cell_type": "code",
   "execution_count": null,
   "metadata": {
    "collapsed": true
   },
   "outputs": [],
   "source": []
  },
  {
   "cell_type": "markdown",
   "metadata": {},
   "source": [
    "## 初期費用"
   ]
  },
  {
   "cell_type": "code",
   "execution_count": null,
   "metadata": {
    "collapsed": true
   },
   "outputs": [],
   "source": []
  },
  {
   "cell_type": "code",
   "execution_count": 37,
   "metadata": {},
   "outputs": [
    {
     "data": {
      "text/plain": [
       "117"
      ]
     },
     "execution_count": 37,
     "metadata": {},
     "output_type": "execute_result"
    }
   ],
   "source": [
    "# df_all[df_all[\"立地1_徒歩\"] == max(df_all[\"立地1_徒歩\"])]\n",
    "max(df_all[df_all[\"立地1_徒歩\"] < 472][\"立地1_徒歩\"])"
   ]
  },
  {
   "cell_type": "code",
   "execution_count": 34,
   "metadata": {},
   "outputs": [
    {
     "data": {
      "text/plain": [
       "57"
      ]
     },
     "execution_count": 34,
     "metadata": {},
     "output_type": "execute_result"
    }
   ],
   "source": [
    "max(df_all[df_all[\"立地1_徒歩\"] < 117][\"立地1_徒歩\"])"
   ]
  },
  {
   "cell_type": "code",
   "execution_count": 36,
   "metadata": {},
   "outputs": [
    {
     "data": {
      "text/plain": [
       "48"
      ]
     },
     "execution_count": 36,
     "metadata": {},
     "output_type": "execute_result"
    }
   ],
   "source": [
    "max(df_all[df_all[\"立地1_徒歩\"] < 57][\"立地1_徒歩\"])"
   ]
  },
  {
   "cell_type": "code",
   "execution_count": null,
   "metadata": {
    "collapsed": true
   },
   "outputs": [],
   "source": []
  },
  {
   "cell_type": "markdown",
   "metadata": {},
   "source": [
    "=> 徒歩が"
   ]
  },
  {
   "cell_type": "markdown",
   "metadata": {},
   "source": [
    "# データの傾向を確認"
   ]
  },
  {
   "cell_type": "markdown",
   "metadata": {},
   "source": [
    "★基本は統計量などを可視化などで把握していく。"
   ]
  },
  {
   "cell_type": "markdown",
   "metadata": {},
   "source": [
    "以下を確認する。<br>\n",
    "①23区ごとの物件数<br>\n",
    "②徒歩と物件数<br>\n",
    "③レンタルタイプごとの物件数<br>\n",
    "④23区ごとの徒歩分布<br>\n",
    "⑤23区ごとの築年数分布<br>\n",
    "⑥徒歩と月額費用の分布<br>\n",
    "⑦専有面積と月額費用の分布<br>\n",
    "⑧路線数と月額費用の分布"
   ]
  },
  {
   "cell_type": "markdown",
   "metadata": {},
   "source": [
    "## ①23区ごとの物件数"
   ]
  },
  {
   "cell_type": "code",
   "execution_count": null,
   "metadata": {
    "collapsed": true
   },
   "outputs": [],
   "source": []
  },
  {
   "cell_type": "markdown",
   "metadata": {},
   "source": [
    "## ②徒歩と物件数"
   ]
  },
  {
   "cell_type": "code",
   "execution_count": 11,
   "metadata": {},
   "outputs": [
    {
     "data": {
      "image/png": "[encoded data removed]",
      "text/plain": [
       "<matplotlib.figure.Figure at 0x10c46b1d0>"
      ]
     },
     "metadata": {},
     "output_type": "display_data"
    }
   ],
   "source": [
    "ax = df_all.plot(y=[\"立地1_徒歩\"], alpha=0.5, figsize=(10,10), kind=\"hist\", bins=)\n",
    "plt.title(\"徒歩と物件数\", size=16)\n",
    "plt.show()"
   ]
  },
  {
   "cell_type": "markdown",
   "metadata": {},
   "source": [
    "## ③レンタルタイプごとの物件数"
   ]
  },
  {
   "cell_type": "code",
   "execution_count": null,
   "metadata": {
    "collapsed": true
   },
   "outputs": [],
   "source": []
  },
  {
   "cell_type": "markdown",
   "metadata": {},
   "source": [
    "## ④23区ごとの徒歩分布"
   ]
  },
  {
   "cell_type": "code",
   "execution_count": null,
   "metadata": {
    "collapsed": true
   },
   "outputs": [],
   "source": []
  },
  {
   "cell_type": "markdown",
   "metadata": {},
   "source": [
    "## ⑤23区ごとの築年数分布"
   ]
  },
  {
   "cell_type": "code",
   "execution_count": null,
   "metadata": {
    "collapsed": true
   },
   "outputs": [],
   "source": []
  },
  {
   "cell_type": "markdown",
   "metadata": {},
   "source": [
    "## ⑥徒歩と月額費用の分布"
   ]
  },
  {
   "cell_type": "code",
   "execution_count": 13,
   "metadata": {},
   "outputs": [
    {
     "data": {
      "image/png": "[encoded data removed]",
      "text/plain": [
       "<matplotlib.figure.Figure at 0x10ca56ef0>"
      ]
     },
     "metadata": {},
     "output_type": "display_data"
    }
   ],
   "source": [
    "df_all.plot.scatter(x=\"立地1_徒歩\", y=\"月額費用\", alpha=0.01, figsize=(10,10))\n",
    "plt.title(\"徒歩と月額費用の分布\", size=16)\n",
    "plt.show()"
   ]
  },
  {
   "cell_type": "markdown",
   "metadata": {},
   "source": [
    "## ⑦専有面積と月額費用の分布"
   ]
  },
  {
   "cell_type": "code",
   "execution_count": 12,
   "metadata": {},
   "outputs": [
    {
     "data": {
      "image/png": "[encoded data removed]",
      "text/plain": [
       "<matplotlib.figure.Figure at 0x11322e518>"
      ]
     },
     "metadata": {},
     "output_type": "display_data"
    }
   ],
   "source": [
    "df_all.plot.scatter(x=\"専有面積\", y=\"月額費用\", alpha=0.01, figsize=(10, 10))\n",
    "plt.title(\"専有面積と月額費用の分布\", size=16)\n",
    "plt.show()"
   ]
  },
  {
   "cell_type": "markdown",
   "metadata": {},
   "source": [
    "# 予測モデル作成"
   ]
  },
  {
   "cell_type": "markdown",
   "metadata": {
    "collapsed": true
   },
   "source": [
    "次のモデルを作成してみる。<br>\n",
    "①ロジスティック回帰\n",
    "②XGBoost\n",
    "③DNN"
   ]
  },
  {
   "cell_type": "code",
   "execution_count": null,
   "metadata": {
    "collapsed": true
   },
   "outputs": [],
   "source": []
  },
  {
   "cell_type": "code",
   "execution_count": null,
   "metadata": {
    "collapsed": true
   },
   "outputs": [],
   "source": []
  },
  {
   "cell_type": "code",
   "execution_count": null,
   "metadata": {
    "collapsed": true
   },
   "outputs": [],
   "source": []
  },
  {
   "cell_type": "markdown",
   "metadata": {},
   "source": [
    "# お買い物物件を探す"
   ]
  },
  {
   "cell_type": "code",
   "execution_count": null,
   "metadata": {
    "collapsed": true
   },
   "outputs": [],
   "source": []
  }
 ],
 "metadata": {
  "kernelspec": {
   "display_name": "Python 3",
   "language": "python",
   "name": "python3"
  },
  "language_info": {
   "codemirror_mode": {
    "name": "ipython",
    "version": 3
   },
   "file_extension": ".py",
   "mimetype": "text/x-python",
   "name": "python",
   "nbconvert_exporter": "python",
   "pygments_lexer": "ipython3",
   "version": "3.5.2"
  },
  "toc": {
   "colors": {
    "hover_highlight": "#DAA520",
    "navigate_num": "#000000",
    "navigate_text": "#333333",
    "running_highlight": "#FF0000",
    "selected_highlight": "#FFD700",
    "sidebar_border": "#EEEEEE",
    "wrapper_background": "#FFFFFF"
   },
   "moveMenuLeft": true,
   "nav_menu": {
    "height": "4px",
    "width": "254px"
   },
   "navigate_menu": true,
   "number_sections": true,
   "sideBar": true,
   "threshold": 4,
   "toc_cell": false,
   "toc_section_display": "block",
   "toc_window_display": true,
   "widenNotebook": false
  }
 },
 "nbformat": 4,
 "nbformat_minor": 2
}
